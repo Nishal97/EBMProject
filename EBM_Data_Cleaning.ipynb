{
 "cells": [
  {
   "cell_type": "code",
   "execution_count": null,
   "metadata": {
    "id": "7ZeBUkB4RGnI"
   },
   "outputs": [],
   "source": [
    "import pandas as pd\n",
    "import numpy as np\n",
    "import math as math"
   ]
  },
  {
   "cell_type": "code",
   "execution_count": null,
   "metadata": {
    "colab": {
     "base_uri": "https://localhost:8080/",
     "height": 573
    },
    "id": "oGFy1oQxRXQl",
    "outputId": "72fa5f1c-ea91-4eb1-a575-291cef0664b9"
   },
   "outputs": [],
   "source": [
    "df = pd.read_stata(\"usa_00007.dta\")\n",
    "\n",
    "df"
   ]
  },
  {
   "cell_type": "code",
   "execution_count": null,
   "metadata": {
    "colab": {
     "base_uri": "https://localhost:8080/",
     "height": 406
    },
    "id": "vPal-Qwd5i_h",
    "outputId": "3ce09edb-e71b-4994-fa44-cd0796cfd5ad"
   },
   "outputs": [],
   "source": [
    "#Data Quality filtering \n",
    "df = df[df['qage']!='allocated']\n",
    "df = df[df['qsex']!='allocated']\n",
    "df = df[df['qrace']!='allocated']\n",
    "df = df[df['qwkswork2']!='allocated']\n",
    "df = df[df['qincwage']!='allocated']\n",
    "df = df.drop(columns=['qage','qsex','qrace','qwkswork2','qincwage'])\n",
    "df"
   ]
  },
  {
   "cell_type": "code",
   "execution_count": null,
   "metadata": {
    "colab": {
     "base_uri": "https://localhost:8080/",
     "height": 406
    },
    "id": "fBLCq2-x1vyK",
    "outputId": "b4629a6f-2b87-449d-d430-05fd6e6ce840"
   },
   "outputs": [],
   "source": [
    "#Complexity of the data has meant seperating hispanic from race to be technically challenging due to crossovers\n",
    "#eg. (white and hispanic) \n",
    "df = df.drop(columns=[\"raced\"])\n",
    "df"
   ]
  },
  {
   "cell_type": "code",
   "execution_count": null,
   "metadata": {
    "colab": {
     "base_uri": "https://localhost:8080/"
    },
    "id": "l7pZZ4WRCamG",
    "outputId": "aa777c0c-487d-4abc-c852-0ed32f602c16"
   },
   "outputs": [],
   "source": [
    "#Sub-sampling for black and white people only\n",
    "df = df[(df['race']=='white')|(df['race']=='black/african american/negro')]\n",
    "df['black'] = df['race'].apply(lambda x: 1 if (x=='black/african american/negro') else 0)\n",
    "df = df.drop(columns=['race'])"
   ]
  },
  {
   "cell_type": "code",
   "execution_count": null,
   "metadata": {
    "id": "V1U4LuZd_CTD"
   },
   "outputs": [],
   "source": [
    "#Cleaning up the education variable\n",
    "df[\"education\"] = df[\"us2010a_schl\"] + df[\"us2019a_schl\"]\n",
    "df = df.drop(columns = [\"us2010a_schl\",\"us2019a_schl\"])\n",
    "df['education']=df['education'].astype(str).astype(int)"
   ]
  },
  {
   "cell_type": "code",
   "execution_count": null,
   "metadata": {
    "id": "F6Z8ToPZR05_"
   },
   "outputs": [],
   "source": [
    "#Convert age to integer\n",
    "df['age']=df['age'].astype(str).astype(int)"
   ]
  },
  {
   "cell_type": "code",
   "execution_count": null,
   "metadata": {
    "id": "6Izb94E7aXN5"
   },
   "outputs": [],
   "source": [
    "#Convert year to integer\n",
    "df['year']=df['year'].astype(str).astype(int)"
   ]
  },
  {
   "cell_type": "code",
   "execution_count": null,
   "metadata": {
    "colab": {
     "base_uri": "https://localhost:8080/",
     "height": 406
    },
    "id": "xK3Qd3ceLAj3",
    "outputId": "efe9d6d7-9063-4d1e-e2be-11402dc2aea1"
   },
   "outputs": [],
   "source": [
    "df"
   ]
  },
  {
   "cell_type": "code",
   "execution_count": null,
   "metadata": {
    "colab": {
     "base_uri": "https://localhost:8080/"
    },
    "id": "RG8A19WFkxnk",
    "outputId": "27d87a30-f217-48c4-b7f4-b6dffc85a65e"
   },
   "outputs": [],
   "source": [
    "#Create a male dummy\n",
    "df['male']=df['sex'].apply(lambda x: 1 if (x==\"male\") else 0)\n",
    "df = df.drop(columns=['sex'])\n",
    "df['male'].astype(str).astype(int)"
   ]
  },
  {
   "cell_type": "code",
   "execution_count": null,
   "metadata": {},
   "outputs": [],
   "source": [
    "pce = pd.read_csv(\"pce.csv\")\n",
    "pceave = pd.DataFrame(pce.mean())\n",
    "pceave = pceave.T\n",
    "deflator2010 = float(pceave['1989']/pceave['2010'])\n",
    "deflator2019 = float(pceave['1989']/pceave['2019'])"
   ]
  },
  {
   "cell_type": "markdown",
   "metadata": {},
   "source": [
    "$\\text{income in 2010/19}*\\frac{PCE:\\;1989}{PCE:\\;2010/19}=\\text{2010/19 income in 1989 prices}$"
   ]
  },
  {
   "cell_type": "code",
   "execution_count": null,
   "metadata": {
    "id": "LcYcxqPfi8Ib"
   },
   "outputs": [],
   "source": [
    "#Formatting number of weeks worked\n",
    "df = df[df['wkswork2']!=\"n/a\"]\n",
    "df['wkswork2'] = df['wkswork2'].astype(str) \n",
    "\n",
    "#Transforming year wages into log weekly earnings\n",
    "conditions = [\n",
    "    (df['wkswork2'] == '1-13 weeks'),\n",
    "    (df['wkswork2'] == '14-26 weeks'),\n",
    "    (df['wkswork2'] == '27-39 weeks'),\n",
    "    (df['wkswork2'] == '40-47 weeks'),\n",
    "    (df['wkswork2'] == '48-49 weeks'),\n",
    "    (df['wkswork2'] == '50-52 weeks')\n",
    "    ]\n",
    "choices = [7, 20, 33, 44, 48, 52]\n",
    "#52 weeks because 50-51 is probably less likely\n",
    "df['midpoint'] = np.select(conditions, choices)\n",
    "df = df.drop(columns=[\"wkswork2\"])\n",
    "\n",
    "#Converting into real terms\n",
    "df10=df[df['year']==2010]\n",
    "df19=df[df['year']==2019]\n",
    "df10['incwage'] = df10['incwage']*deflator2010\n",
    "df19['incwage'] = df19['incwage']*deflator2019\n",
    "df = pd.concat([df10,df19])\n",
    "\n",
    "#natural log and formatting\n",
    "df = df[df['incwage']!=0]\n",
    "df['lwage'] = np.log(df['incwage']/df['midpoint'])\n",
    "df = df[df['lwage']>0]\n",
    "df = df.drop(columns=['midpoint','incwage'])"
   ]
  },
  {
   "cell_type": "code",
   "execution_count": null,
   "metadata": {
    "id": "Hska77-bqp9b"
   },
   "outputs": [],
   "source": [
    "#Formatting education variables\n",
    "df = df[df['education']>7]\n",
    "conditions = [\n",
    "    (df['education'] == 8) | (df['education'] == 9) | (df['education'] == 10) | (df['education'] == 11),\n",
    "    (df['education'] == 12),\n",
    "    (df['education'] == 13),\n",
    "    (df['education'] == 14) | (df['education'] == 15),\n",
    "    (df['education'] == 16) | (df['education'] == 17),\n",
    "    (df['education'] == 18) | (df['education'] == 19),\n",
    "    (df['education'] == 20), \n",
    "    (df['education'] == 21),\n",
    "    (df['education'] == 22),\n",
    "    (df['education'] == 23),\n",
    "    (df['education'] == 24)\n",
    "    ]\n",
    "choices = [8,9,10,11,12,13,14,16,18,19,20]\n",
    "df['educ'] = np.select(conditions, choices)\n",
    "df = df.drop(columns=['education'])\n",
    "#Note that in the original used by ACFV educ values can take on 14/15 and 16/17\n",
    "#these represent different levels of associate and bachelors degrees respectively\n",
    "#The data does not split these two levels of educations i.e. we have mapped\n",
    "#14 = associates and 16 = bachelors, and no mapping for 15 and 17."
   ]
  },
  {
   "cell_type": "code",
   "execution_count": null,
   "metadata": {
    "id": "drD7espbm7tr"
   },
   "outputs": [],
   "source": [
    "#Generate experience variable\n",
    "df['exper'] = df['age'] - df['educ'] - 6\n",
    "df['expersq'] = df['exper']**2"
   ]
  },
  {
   "cell_type": "code",
   "execution_count": null,
   "metadata": {
    "id": "4keiYkOZRDfH"
   },
   "outputs": [],
   "source": [
    "df['perwt'] = df['perwt']/df['perwt'].mean()"
   ]
  },
  {
   "cell_type": "code",
   "execution_count": null,
   "metadata": {
    "colab": {
     "base_uri": "https://localhost:8080/"
    },
    "id": "OyEJY8X2XoAr",
    "outputId": "2a19a8e4-a842-407c-a11a-cc2dcce1a761"
   },
   "outputs": [],
   "source": [
    "df['male'].dtype"
   ]
  },
  {
   "cell_type": "code",
   "execution_count": null,
   "metadata": {
    "colab": {
     "base_uri": "https://localhost:8080/"
    },
    "id": "C_AMm5Dckd8o",
    "outputId": "b6e1526f-d5b5-418a-8f0f-25b255c78529"
   },
   "outputs": [],
   "source": [
    "df['black'].unique()"
   ]
  },
  {
   "cell_type": "code",
   "execution_count": null,
   "metadata": {
    "id": "tsaOu6UAk13j"
   },
   "outputs": [],
   "source": [
    "df10 = df[df['year']==2010] # obs in 2010 sample\n",
    "df19 = df[df['year']==2019] # obs in 2019 sample"
   ]
  },
  {
   "cell_type": "code",
   "execution_count": null,
   "metadata": {
    "id": "EIX0v83rKLlE"
   },
   "outputs": [],
   "source": [
    "df10m = df[(df['year']==2010) & (df['male']==1)]\n",
    "df10f = df[(df['year']==2010) & (df['male']==0)]\n",
    "df19m = df[(df['year']==2019) & (df['male']==1)]\n",
    "df19f = df[(df['year']==2019) & (df['male']==0)]"
   ]
  },
  {
   "cell_type": "code",
   "execution_count": null,
   "metadata": {
    "id": "c1L43VUeNq5U"
   },
   "outputs": [],
   "source": [
    "df10m = df10m.drop(columns=['male'])\n",
    "df10f = df10f.drop(columns=['male'])\n",
    "df19m = df19m.drop(columns=['male'])\n",
    "df19f = df19f.drop(columns=['male'])"
   ]
  },
  {
   "cell_type": "code",
   "execution_count": null,
   "metadata": {
    "id": "1uLjMyiTL_dD"
   },
   "outputs": [],
   "source": [
    "df10m.to_csv('C:/Users/Nish/OneDrive - University of Bristol/TB2/Econometrics Beyond the Mean/Formative Project/df10m.csv')\n",
    "df10f.to_csv('C:/Users/Nish/OneDrive - University of Bristol/TB2/Econometrics Beyond the Mean/Formative Project/df10f.csv')\n",
    "df19m.to_csv('C:/Users/Nish/OneDrive - University of Bristol/TB2/Econometrics Beyond the Mean/Formative Project/df19m.csv')\n",
    "df19f.to_csv('C:/Users/Nish/OneDrive - University of Bristol/TB2/Econometrics Beyond the Mean/Formative Project/df19f.csv')"
   ]
  },
  {
   "cell_type": "code",
   "execution_count": null,
   "metadata": {
    "id": "pa0-jxdyKtWY"
   },
   "outputs": [],
   "source": []
  },
  {
   "cell_type": "code",
   "execution_count": null,
   "metadata": {
    "id": "8gsH1SZRMFqa"
   },
   "outputs": [],
   "source": []
  },
  {
   "cell_type": "code",
   "execution_count": null,
   "metadata": {},
   "outputs": [],
   "source": []
  },
  {
   "cell_type": "code",
   "execution_count": null,
   "metadata": {},
   "outputs": [],
   "source": [
    "\n",
    "        "
   ]
  }
 ],
 "metadata": {
  "colab": {
   "collapsed_sections": [],
   "name": "EBM Data Cleaning",
   "provenance": []
  },
  "kernelspec": {
   "display_name": "Python 3",
   "language": "python",
   "name": "python3"
  },
  "language_info": {
   "codemirror_mode": {
    "name": "ipython",
    "version": 3
   },
   "file_extension": ".py",
   "mimetype": "text/x-python",
   "name": "python",
   "nbconvert_exporter": "python",
   "pygments_lexer": "ipython3",
   "version": "3.7.6"
  }
 },
 "nbformat": 4,
 "nbformat_minor": 1
}
